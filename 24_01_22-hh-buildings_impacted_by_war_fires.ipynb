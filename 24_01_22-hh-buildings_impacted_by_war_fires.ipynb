{
 "cells": [
  {
   "cell_type": "markdown",
   "metadata": {},
   "source": [
    "# Building impacted by war fires\n",
    "# ==============================\n",
    "\n",
    "This notebook focuses on analyzing the impact of war fires on buildings in Ukraine. It begins by importing necessary libraries and setting a development flag. The script then retrieves war fire data from a GitHub repository and reads both war fire and building datasets. Utilizing reverse geocoding, it determines the state of each building based on its geographical coordinates. The processed war fire data is saved, and subsequent steps involve filtering the data for specific Ukrainian states, creating a geometry column, and converting coordinates to the UTM coordinate system. Additionally, the code calculates the centroid of buildings and performs a spatial analysis to count the number of buildings within a 50-meter buffer of each war fire. The final results, detailing the impact of war fires on buildings, are saved to a CSV file. The script concludes by exporting the code as a Python script for future use."
   ]
  },
  {
   "cell_type": "code",
   "execution_count": 1,
   "id": "c9509f85",
   "metadata": {},
   "outputs": [
    {
     "name": "stdout",
     "output_type": "stream",
     "text": [
      "/Users/vivianwang/Desktop/building_damage_estimates\n"
     ]
    }
   ],
   "source": [
    "# Auto update notebook imports\n",
    "#%load_ext autoreload\n",
    "#%autoreload 2\n",
    "\n",
    "# Backtrack to folder source directory if it doesn't already exist in path\n",
    "import os\n",
    "import sys\n",
    "\n",
    "if os.path.basename(os.getcwd()) == \"notebooks\":\n",
    "    os.chdir(\"..\")\n",
    "\n",
    "sys.path.append(os.getcwd())\n",
    "print(os.getcwd())\n",
    "\n",
    "import geopandas as gpd\n",
    "import pandas as pd\n",
    "from shapely.wkt import loads\n",
    "import numpy as np\n",
    "from shapely import wkt\n",
    "from shapely.geometry import Point\n",
    "from tqdm.notebook import tqdm\n",
    "from urllib.request import urlretrieve\n",
    "\n",
    "from geopy.geocoders import Nominatim\n",
    "geolocator = Nominatim(user_agent=\"myexer\")\n",
    "\n",
    "from src.data import make_dataset\n",
    "\n",
    "DEVELOPMENT = True\n",
    "\n",
    "raw_filepath = \"data/raw/\"\n",
    "interim_filepath = \"data/interim/\"\n",
    "external_filepath = \"data/external/\"\n",
    "processed_filepath = \"data/processed/\""
   ]
  },
  {
   "cell_type": "code",
   "execution_count": 2,
   "metadata": {},
   "outputs": [],
   "source": [
    "raw_filepath = \"data/raw/\"\n",
    "make_dataset.update_data(raw_filepath)"
   ]
  },
  {
   "cell_type": "code",
   "execution_count": 3,
   "id": "2eb076dd",
   "metadata": {},
   "outputs": [
    {
     "name": "stderr",
     "output_type": "stream",
     "text": [
      "/var/folders/93/b531zk911js9h3xpnm3db4x00000gn/T/ipykernel_11215/2763408197.py:6: DtypeWarning: Columns (7,9) have mixed types. Specify dtype option on import or set low_memory=False.\n",
      "  output_df = pd.read_csv(building_data_csv_path)\n"
     ]
    }
   ],
   "source": [
    "# Read in the data\n",
    "war_fire_csv_path = \"./data/raw/war_fires_by_ADM3.csv\"\n",
    "war_fire_df = pd.read_csv(war_fire_csv_path)\n",
    "\n",
    "building_data_csv_path = \"./data/raw/building_shapes_file.csv\"\n",
    "output_df = pd.read_csv(building_data_csv_path)"
   ]
  },
  {
   "cell_type": "markdown",
   "id": "b1e5b71c",
   "metadata": {},
   "source": [
    "# Ukraine war fire dataset"
   ]
  },
  {
   "cell_type": "code",
   "execution_count": 4,
   "id": "10ed37b6",
   "metadata": {},
   "outputs": [
    {
     "data": {
      "text/html": [
       "<div>\n",
       "<style scoped>\n",
       "    .dataframe tbody tr th:only-of-type {\n",
       "        vertical-align: middle;\n",
       "    }\n",
       "\n",
       "    .dataframe tbody tr th {\n",
       "        vertical-align: top;\n",
       "    }\n",
       "\n",
       "    .dataframe thead th {\n",
       "        text-align: right;\n",
       "    }\n",
       "</style>\n",
       "<table border=\"1\" class=\"dataframe\">\n",
       "  <thead>\n",
       "    <tr style=\"text-align: right;\">\n",
       "      <th></th>\n",
       "      <th>LATITUDE</th>\n",
       "      <th>LONGITUDE</th>\n",
       "      <th>ADM3_PCODE</th>\n",
       "      <th>municipality</th>\n",
       "      <th>ADM3_EN</th>\n",
       "      <th>ADM3_UA</th>\n",
       "      <th>ADM3_RU</th>\n",
       "      <th>ADM2_EN</th>\n",
       "      <th>ADM2_UA</th>\n",
       "      <th>ADM2_RU</th>\n",
       "      <th>ADM2_PCODE</th>\n",
       "      <th>ADM1_EN</th>\n",
       "      <th>ADM1_UA</th>\n",
       "      <th>ADM1_RU</th>\n",
       "      <th>ADM1_PCODE</th>\n",
       "      <th>ADM0_EN</th>\n",
       "      <th>year</th>\n",
       "      <th>ACQ_TIME</th>\n",
       "      <th>date</th>\n",
       "      <th>pop_exact</th>\n",
       "    </tr>\n",
       "  </thead>\n",
       "  <tbody>\n",
       "    <tr>\n",
       "      <th>0</th>\n",
       "      <td>44.73999</td>\n",
       "      <td>34.29688</td>\n",
       "      <td>UA0120009</td>\n",
       "      <td>UA0120009</td>\n",
       "      <td>Izobilnenska</td>\n",
       "      <td>Ізобільненська</td>\n",
       "      <td>Изобильненский</td>\n",
       "      <td>Yaltynskyi</td>\n",
       "      <td>Ялтинський</td>\n",
       "      <td>Ялтинский</td>\n",
       "      <td>UA0120</td>\n",
       "      <td>Autonomous Republic of Crimea</td>\n",
       "      <td>Автономна Республіка Крим</td>\n",
       "      <td>Автономная Республика Крым</td>\n",
       "      <td>UA01</td>\n",
       "      <td>Ukraine</td>\n",
       "      <td>2023</td>\n",
       "      <td>3</td>\n",
       "      <td>2023-10-02</td>\n",
       "      <td>12.081634</td>\n",
       "    </tr>\n",
       "    <tr>\n",
       "      <th>1</th>\n",
       "      <td>44.85680</td>\n",
       "      <td>34.29169</td>\n",
       "      <td>UA0116005</td>\n",
       "      <td>UA0116005</td>\n",
       "      <td>Dobrivska</td>\n",
       "      <td>Добрівська</td>\n",
       "      <td>Добровский</td>\n",
       "      <td>Simferopolskyi</td>\n",
       "      <td>Сімферопольський</td>\n",
       "      <td>Симферопольский</td>\n",
       "      <td>UA0116</td>\n",
       "      <td>Autonomous Republic of Crimea</td>\n",
       "      <td>Автономна Республіка Крим</td>\n",
       "      <td>Автономная Республика Крым</td>\n",
       "      <td>UA01</td>\n",
       "      <td>Ukraine</td>\n",
       "      <td>2023</td>\n",
       "      <td>1104</td>\n",
       "      <td>2023-10-14</td>\n",
       "      <td>289.232330</td>\n",
       "    </tr>\n",
       "    <tr>\n",
       "      <th>2</th>\n",
       "      <td>44.85862</td>\n",
       "      <td>34.30407</td>\n",
       "      <td>UA0116005</td>\n",
       "      <td>UA0116005</td>\n",
       "      <td>Dobrivska</td>\n",
       "      <td>Добрівська</td>\n",
       "      <td>Добровский</td>\n",
       "      <td>Simferopolskyi</td>\n",
       "      <td>Сімферопольський</td>\n",
       "      <td>Симферопольский</td>\n",
       "      <td>UA0116</td>\n",
       "      <td>Autonomous Republic of Crimea</td>\n",
       "      <td>Автономна Республіка Крим</td>\n",
       "      <td>Автономная Республика Крым</td>\n",
       "      <td>UA01</td>\n",
       "      <td>Ukraine</td>\n",
       "      <td>2023</td>\n",
       "      <td>1104</td>\n",
       "      <td>2023-10-14</td>\n",
       "      <td>60.394661</td>\n",
       "    </tr>\n",
       "    <tr>\n",
       "      <th>3</th>\n",
       "      <td>44.85981</td>\n",
       "      <td>34.29746</td>\n",
       "      <td>UA0116005</td>\n",
       "      <td>UA0116005</td>\n",
       "      <td>Dobrivska</td>\n",
       "      <td>Добрівська</td>\n",
       "      <td>Добровский</td>\n",
       "      <td>Simferopolskyi</td>\n",
       "      <td>Сімферопольський</td>\n",
       "      <td>Симферопольский</td>\n",
       "      <td>UA0116</td>\n",
       "      <td>Autonomous Republic of Crimea</td>\n",
       "      <td>Автономна Республіка Крим</td>\n",
       "      <td>Автономная Республика Крым</td>\n",
       "      <td>UA01</td>\n",
       "      <td>Ukraine</td>\n",
       "      <td>2023</td>\n",
       "      <td>1104</td>\n",
       "      <td>2023-10-14</td>\n",
       "      <td>103.530571</td>\n",
       "    </tr>\n",
       "    <tr>\n",
       "      <th>4</th>\n",
       "      <td>44.86233</td>\n",
       "      <td>34.30030</td>\n",
       "      <td>UA0116005</td>\n",
       "      <td>UA0116005</td>\n",
       "      <td>Dobrivska</td>\n",
       "      <td>Добрівська</td>\n",
       "      <td>Добровский</td>\n",
       "      <td>Simferopolskyi</td>\n",
       "      <td>Сімферопольський</td>\n",
       "      <td>Симферопольский</td>\n",
       "      <td>UA0116</td>\n",
       "      <td>Autonomous Republic of Crimea</td>\n",
       "      <td>Автономна Республіка Крим</td>\n",
       "      <td>Автономная Республика Крым</td>\n",
       "      <td>UA01</td>\n",
       "      <td>Ukraine</td>\n",
       "      <td>2023</td>\n",
       "      <td>1017</td>\n",
       "      <td>2023-10-27</td>\n",
       "      <td>60.394661</td>\n",
       "    </tr>\n",
       "  </tbody>\n",
       "</table>\n",
       "</div>"
      ],
      "text/plain": [
       "   LATITUDE  LONGITUDE ADM3_PCODE municipality       ADM3_EN         ADM3_UA  \\\n",
       "0  44.73999   34.29688  UA0120009    UA0120009  Izobilnenska  Ізобільненська   \n",
       "1  44.85680   34.29169  UA0116005    UA0116005     Dobrivska      Добрівська   \n",
       "2  44.85862   34.30407  UA0116005    UA0116005     Dobrivska      Добрівська   \n",
       "3  44.85981   34.29746  UA0116005    UA0116005     Dobrivska      Добрівська   \n",
       "4  44.86233   34.30030  UA0116005    UA0116005     Dobrivska      Добрівська   \n",
       "\n",
       "          ADM3_RU         ADM2_EN           ADM2_UA          ADM2_RU  \\\n",
       "0  Изобильненский      Yaltynskyi        Ялтинський        Ялтинский   \n",
       "1      Добровский  Simferopolskyi  Сімферопольський  Симферопольский   \n",
       "2      Добровский  Simferopolskyi  Сімферопольський  Симферопольский   \n",
       "3      Добровский  Simferopolskyi  Сімферопольський  Симферопольский   \n",
       "4      Добровский  Simferopolskyi  Сімферопольський  Симферопольский   \n",
       "\n",
       "  ADM2_PCODE                        ADM1_EN                    ADM1_UA  \\\n",
       "0     UA0120  Autonomous Republic of Crimea  Автономна Республіка Крим   \n",
       "1     UA0116  Autonomous Republic of Crimea  Автономна Республіка Крим   \n",
       "2     UA0116  Autonomous Republic of Crimea  Автономна Республіка Крим   \n",
       "3     UA0116  Autonomous Republic of Crimea  Автономна Республіка Крим   \n",
       "4     UA0116  Autonomous Republic of Crimea  Автономна Республіка Крим   \n",
       "\n",
       "                      ADM1_RU ADM1_PCODE  ADM0_EN  year  ACQ_TIME        date  \\\n",
       "0  Автономная Республика Крым       UA01  Ukraine  2023         3  2023-10-02   \n",
       "1  Автономная Республика Крым       UA01  Ukraine  2023      1104  2023-10-14   \n",
       "2  Автономная Республика Крым       UA01  Ukraine  2023      1104  2023-10-14   \n",
       "3  Автономная Республика Крым       UA01  Ukraine  2023      1104  2023-10-14   \n",
       "4  Автономная Республика Крым       UA01  Ukraine  2023      1017  2023-10-27   \n",
       "\n",
       "    pop_exact  \n",
       "0   12.081634  \n",
       "1  289.232330  \n",
       "2   60.394661  \n",
       "3  103.530571  \n",
       "4   60.394661  "
      ]
     },
     "execution_count": 4,
     "metadata": {},
     "output_type": "execute_result"
    }
   ],
   "source": [
    "war_fire_df.head()"
   ]
  },
  {
   "cell_type": "code",
   "execution_count": 5,
   "id": "d8c35cc7",
   "metadata": {},
   "outputs": [
    {
     "name": "stdout",
     "output_type": "stream",
     "text": [
      "<class 'pandas.core.frame.DataFrame'>\n",
      "RangeIndex: 68191 entries, 0 to 68190\n",
      "Data columns (total 20 columns):\n",
      " #   Column        Non-Null Count  Dtype  \n",
      "---  ------        --------------  -----  \n",
      " 0   LATITUDE      68191 non-null  float64\n",
      " 1   LONGITUDE     68191 non-null  float64\n",
      " 2   ADM3_PCODE    68032 non-null  object \n",
      " 3   municipality  68032 non-null  object \n",
      " 4   ADM3_EN       68032 non-null  object \n",
      " 5   ADM3_UA       68032 non-null  object \n",
      " 6   ADM3_RU       68032 non-null  object \n",
      " 7   ADM2_EN       68032 non-null  object \n",
      " 8   ADM2_UA       68032 non-null  object \n",
      " 9   ADM2_RU       68032 non-null  object \n",
      " 10  ADM2_PCODE    68032 non-null  object \n",
      " 11  ADM1_EN       68032 non-null  object \n",
      " 12  ADM1_UA       68032 non-null  object \n",
      " 13  ADM1_RU       68032 non-null  object \n",
      " 14  ADM1_PCODE    68032 non-null  object \n",
      " 15  ADM0_EN       68032 non-null  object \n",
      " 16  year          68191 non-null  int64  \n",
      " 17  ACQ_TIME      68191 non-null  int64  \n",
      " 18  date          68191 non-null  object \n",
      " 19  pop_exact     68191 non-null  float64\n",
      "dtypes: float64(3), int64(2), object(15)\n",
      "memory usage: 10.4+ MB\n"
     ]
    }
   ],
   "source": [
    "war_fire_df.info()"
   ]
  },
  {
   "cell_type": "markdown",
   "metadata": {},
   "source": [
    "# Building Dataset"
   ]
  },
  {
   "cell_type": "code",
   "execution_count": 6,
   "metadata": {},
   "outputs": [
    {
     "data": {
      "text/html": [
       "<div>\n",
       "<style scoped>\n",
       "    .dataframe tbody tr th:only-of-type {\n",
       "        vertical-align: middle;\n",
       "    }\n",
       "\n",
       "    .dataframe tbody tr th {\n",
       "        vertical-align: top;\n",
       "    }\n",
       "\n",
       "    .dataframe thead th {\n",
       "        text-align: right;\n",
       "    }\n",
       "</style>\n",
       "<table border=\"1\" class=\"dataframe\">\n",
       "  <thead>\n",
       "    <tr style=\"text-align: right;\">\n",
       "      <th></th>\n",
       "      <th>osm_id</th>\n",
       "      <th>buildingma</th>\n",
       "      <th>addrstreet</th>\n",
       "      <th>addrcity</th>\n",
       "      <th>building</th>\n",
       "      <th>addrhousen</th>\n",
       "      <th>office</th>\n",
       "      <th>addrfull</th>\n",
       "      <th>name</th>\n",
       "      <th>buildingle</th>\n",
       "      <th>source</th>\n",
       "      <th>geometry</th>\n",
       "    </tr>\n",
       "  </thead>\n",
       "  <tbody>\n",
       "    <tr>\n",
       "      <th>0</th>\n",
       "      <td>4338650.0</td>\n",
       "      <td>NaN</td>\n",
       "      <td>NaN</td>\n",
       "      <td>NaN</td>\n",
       "      <td>construction</td>\n",
       "      <td>NaN</td>\n",
       "      <td>NaN</td>\n",
       "      <td>NaN</td>\n",
       "      <td>Льодовий стадіон</td>\n",
       "      <td>5</td>\n",
       "      <td>NaN</td>\n",
       "      <td>POLYGON ((30.4658704 50.3739959, 30.4672303 50...</td>\n",
       "    </tr>\n",
       "    <tr>\n",
       "      <th>1</th>\n",
       "      <td>4528325.0</td>\n",
       "      <td>NaN</td>\n",
       "      <td>NaN</td>\n",
       "      <td>NaN</td>\n",
       "      <td>yes</td>\n",
       "      <td>NaN</td>\n",
       "      <td>NaN</td>\n",
       "      <td>NaN</td>\n",
       "      <td>NaN</td>\n",
       "      <td>NaN</td>\n",
       "      <td>NaN</td>\n",
       "      <td>POLYGON ((35.4149579 45.3275258, 35.4150137 45...</td>\n",
       "    </tr>\n",
       "    <tr>\n",
       "      <th>2</th>\n",
       "      <td>4528616.0</td>\n",
       "      <td>NaN</td>\n",
       "      <td>NaN</td>\n",
       "      <td>NaN</td>\n",
       "      <td>yes</td>\n",
       "      <td>NaN</td>\n",
       "      <td>NaN</td>\n",
       "      <td>NaN</td>\n",
       "      <td>NaN</td>\n",
       "      <td>NaN</td>\n",
       "      <td>NaN</td>\n",
       "      <td>POLYGON ((35.4150689 45.3277749, 35.4151686 45...</td>\n",
       "    </tr>\n",
       "    <tr>\n",
       "      <th>3</th>\n",
       "      <td>4528933.0</td>\n",
       "      <td>NaN</td>\n",
       "      <td>NaN</td>\n",
       "      <td>NaN</td>\n",
       "      <td>yes</td>\n",
       "      <td>NaN</td>\n",
       "      <td>NaN</td>\n",
       "      <td>NaN</td>\n",
       "      <td>NaN</td>\n",
       "      <td>NaN</td>\n",
       "      <td>NaN</td>\n",
       "      <td>POLYGON ((35.4122859 45.3309186, 35.4123139 45...</td>\n",
       "    </tr>\n",
       "    <tr>\n",
       "      <th>4</th>\n",
       "      <td>4529198.0</td>\n",
       "      <td>NaN</td>\n",
       "      <td>NaN</td>\n",
       "      <td>NaN</td>\n",
       "      <td>yes</td>\n",
       "      <td>NaN</td>\n",
       "      <td>NaN</td>\n",
       "      <td>NaN</td>\n",
       "      <td>NaN</td>\n",
       "      <td>NaN</td>\n",
       "      <td>NaN</td>\n",
       "      <td>POLYGON ((33.7198442 44.4086498, 33.720139 44....</td>\n",
       "    </tr>\n",
       "  </tbody>\n",
       "</table>\n",
       "</div>"
      ],
      "text/plain": [
       "      osm_id  buildingma addrstreet addrcity      building addrhousen office  \\\n",
       "0  4338650.0         NaN        NaN      NaN  construction        NaN    NaN   \n",
       "1  4528325.0         NaN        NaN      NaN           yes        NaN    NaN   \n",
       "2  4528616.0         NaN        NaN      NaN           yes        NaN    NaN   \n",
       "3  4528933.0         NaN        NaN      NaN           yes        NaN    NaN   \n",
       "4  4529198.0         NaN        NaN      NaN           yes        NaN    NaN   \n",
       "\n",
       "  addrfull              name buildingle source  \\\n",
       "0      NaN  Льодовий стадіон          5    NaN   \n",
       "1      NaN               NaN        NaN    NaN   \n",
       "2      NaN               NaN        NaN    NaN   \n",
       "3      NaN               NaN        NaN    NaN   \n",
       "4      NaN               NaN        NaN    NaN   \n",
       "\n",
       "                                            geometry  \n",
       "0  POLYGON ((30.4658704 50.3739959, 30.4672303 50...  \n",
       "1  POLYGON ((35.4149579 45.3275258, 35.4150137 45...  \n",
       "2  POLYGON ((35.4150689 45.3277749, 35.4151686 45...  \n",
       "3  POLYGON ((35.4122859 45.3309186, 35.4123139 45...  \n",
       "4  POLYGON ((33.7198442 44.4086498, 33.720139 44....  "
      ]
     },
     "execution_count": 6,
     "metadata": {},
     "output_type": "execute_result"
    }
   ],
   "source": [
    "output_df.head()"
   ]
  },
  {
   "cell_type": "code",
   "execution_count": 7,
   "metadata": {},
   "outputs": [
    {
     "name": "stdout",
     "output_type": "stream",
     "text": [
      "<class 'pandas.core.frame.DataFrame'>\n",
      "RangeIndex: 6018387 entries, 0 to 6018386\n",
      "Data columns (total 12 columns):\n",
      " #   Column      Dtype  \n",
      "---  ------      -----  \n",
      " 0   osm_id      float64\n",
      " 1   buildingma  float64\n",
      " 2   addrstreet  object \n",
      " 3   addrcity    object \n",
      " 4   building    object \n",
      " 5   addrhousen  object \n",
      " 6   office      object \n",
      " 7   addrfull    object \n",
      " 8   name        object \n",
      " 9   buildingle  object \n",
      " 10  source      object \n",
      " 11  geometry    object \n",
      "dtypes: float64(2), object(10)\n",
      "memory usage: 551.0+ MB\n"
     ]
    }
   ],
   "source": [
    "output_df.info()"
   ]
  },
  {
   "cell_type": "markdown",
   "id": "a74eacdf",
   "metadata": {},
   "source": [
    "# Reverse locate"
   ]
  },
  {
   "cell_type": "code",
   "execution_count": 8,
   "id": "9d38b39c",
   "metadata": {},
   "outputs": [
    {
     "data": {
      "application/vnd.jupyter.widget-view+json": {
       "model_id": "6ddf68f529f64ab6b4df456121bc9c54",
       "version_major": 2,
       "version_minor": 0
      },
      "text/plain": [
       "  0%|          | 0/1000 [00:00<?, ?it/s]"
      ]
     },
     "metadata": {},
     "output_type": "display_data"
    }
   ],
   "source": [
    "# If DEVELOPMENT is True, only run on first 100 rows\n",
    "if DEVELOPMENT:\n",
    "    war_fire_df = war_fire_df[:1000]\n",
    "\n",
    "# Write the same code but add tqdm to see the progress of the loop\n",
    "for idx, row in tqdm(war_fire_df.iterrows(), total=war_fire_df.shape[0]):\n",
    "    war_fire_df.loc[war_fire_df.index[idx], 'state'] = make_dataset.find_states(row)"
   ]
  },
  {
   "cell_type": "code",
   "execution_count": 9,
   "id": "e2d61534",
   "metadata": {},
   "outputs": [
    {
     "data": {
      "text/plain": [
       "state\n",
       "Odesa Oblast                     468\n",
       "Autonomous Republic of Crimea    304\n",
       "Republic of Crimea               194\n",
       "                                  18\n",
       "Kherson Oblast                    16\n",
       "Name: count, dtype: int64"
      ]
     },
     "execution_count": 9,
     "metadata": {},
     "output_type": "execute_result"
    }
   ],
   "source": [
    "war_fire_df[\"state\"].value_counts()"
   ]
  },
  {
   "cell_type": "code",
   "execution_count": 10,
   "id": "ed9813dd",
   "metadata": {},
   "outputs": [],
   "source": [
    "# Saving the war fire model back to a file\n",
    "war_fire_df.to_csv(\"./data/processed/ukraine_war_fires_with_state_lookup.csv\", index=False)"
   ]
  },
  {
   "cell_type": "code",
   "execution_count": 11,
   "id": "6c5bd116",
   "metadata": {},
   "outputs": [
    {
     "data": {
      "text/plain": [
       "state\n",
       "Odesa Oblast                     468\n",
       "Autonomous Republic of Crimea    304\n",
       "Republic of Crimea               194\n",
       "Kherson Oblast                    16\n",
       "Name: count, dtype: int64"
      ]
     },
     "execution_count": 11,
     "metadata": {},
     "output_type": "execute_result"
    }
   ],
   "source": [
    "# Read processed war fire data\n",
    "war_fire_df = pd.read_csv(\"./data/processed/ukraine_war_fires_with_state_lookup.csv\")\n",
    "war_fire_df[\"state\"].value_counts()"
   ]
  },
  {
   "cell_type": "code",
   "execution_count": 12,
   "id": "51aa6428",
   "metadata": {},
   "outputs": [
    {
     "data": {
      "text/html": [
       "<div>\n",
       "<style scoped>\n",
       "    .dataframe tbody tr th:only-of-type {\n",
       "        vertical-align: middle;\n",
       "    }\n",
       "\n",
       "    .dataframe tbody tr th {\n",
       "        vertical-align: top;\n",
       "    }\n",
       "\n",
       "    .dataframe thead th {\n",
       "        text-align: right;\n",
       "    }\n",
       "</style>\n",
       "<table border=\"1\" class=\"dataframe\">\n",
       "  <thead>\n",
       "    <tr style=\"text-align: right;\">\n",
       "      <th></th>\n",
       "      <th>LATITUDE</th>\n",
       "      <th>LONGITUDE</th>\n",
       "      <th>ADM3_PCODE</th>\n",
       "      <th>municipality</th>\n",
       "      <th>ADM3_EN</th>\n",
       "      <th>ADM3_UA</th>\n",
       "      <th>ADM3_RU</th>\n",
       "      <th>ADM2_EN</th>\n",
       "      <th>ADM2_UA</th>\n",
       "      <th>ADM2_RU</th>\n",
       "      <th>...</th>\n",
       "      <th>ADM1_EN</th>\n",
       "      <th>ADM1_UA</th>\n",
       "      <th>ADM1_RU</th>\n",
       "      <th>ADM1_PCODE</th>\n",
       "      <th>ADM0_EN</th>\n",
       "      <th>year</th>\n",
       "      <th>ACQ_TIME</th>\n",
       "      <th>date</th>\n",
       "      <th>pop_exact</th>\n",
       "      <th>state</th>\n",
       "    </tr>\n",
       "  </thead>\n",
       "  <tbody>\n",
       "    <tr>\n",
       "      <th>223</th>\n",
       "      <td>45.30062</td>\n",
       "      <td>28.89845</td>\n",
       "      <td>UA5108003</td>\n",
       "      <td>UA5108003</td>\n",
       "      <td>Izmailska</td>\n",
       "      <td>Ізмаїльська</td>\n",
       "      <td>Измаильская</td>\n",
       "      <td>Izmailskyi</td>\n",
       "      <td>Ізмаїльський</td>\n",
       "      <td>Измаильский</td>\n",
       "      <td>...</td>\n",
       "      <td>Odeska</td>\n",
       "      <td>Одеська</td>\n",
       "      <td>Одесская</td>\n",
       "      <td>UA51</td>\n",
       "      <td>Ukraine</td>\n",
       "      <td>2023</td>\n",
       "      <td>48</td>\n",
       "      <td>2023-08-02</td>\n",
       "      <td>280.977295</td>\n",
       "      <td>Odesa Oblast</td>\n",
       "    </tr>\n",
       "    <tr>\n",
       "      <th>227</th>\n",
       "      <td>45.30187</td>\n",
       "      <td>28.90038</td>\n",
       "      <td>UA5108009</td>\n",
       "      <td>UA5108009</td>\n",
       "      <td>Safianivska</td>\n",
       "      <td>Саф'янівська</td>\n",
       "      <td>Сафьяновская</td>\n",
       "      <td>Izmailskyi</td>\n",
       "      <td>Ізмаїльський</td>\n",
       "      <td>Измаильский</td>\n",
       "      <td>...</td>\n",
       "      <td>Odeska</td>\n",
       "      <td>Одеська</td>\n",
       "      <td>Одесская</td>\n",
       "      <td>UA51</td>\n",
       "      <td>Ukraine</td>\n",
       "      <td>2023</td>\n",
       "      <td>1155</td>\n",
       "      <td>2023-08-03</td>\n",
       "      <td>316.327911</td>\n",
       "      <td>Odesa Oblast</td>\n",
       "    </tr>\n",
       "    <tr>\n",
       "      <th>232</th>\n",
       "      <td>45.30349</td>\n",
       "      <td>28.89518</td>\n",
       "      <td>UA5108003</td>\n",
       "      <td>UA5108003</td>\n",
       "      <td>Izmailska</td>\n",
       "      <td>Ізмаїльська</td>\n",
       "      <td>Измаильская</td>\n",
       "      <td>Izmailskyi</td>\n",
       "      <td>Ізмаїльський</td>\n",
       "      <td>Измаильский</td>\n",
       "      <td>...</td>\n",
       "      <td>Odeska</td>\n",
       "      <td>Одеська</td>\n",
       "      <td>Одесская</td>\n",
       "      <td>UA51</td>\n",
       "      <td>Ukraine</td>\n",
       "      <td>2023</td>\n",
       "      <td>30</td>\n",
       "      <td>2023-08-03</td>\n",
       "      <td>280.977295</td>\n",
       "      <td>Odesa Oblast</td>\n",
       "    </tr>\n",
       "    <tr>\n",
       "      <th>234</th>\n",
       "      <td>45.30404</td>\n",
       "      <td>28.89320</td>\n",
       "      <td>UA5108003</td>\n",
       "      <td>UA5108003</td>\n",
       "      <td>Izmailska</td>\n",
       "      <td>Ізмаїльська</td>\n",
       "      <td>Измаильская</td>\n",
       "      <td>Izmailskyi</td>\n",
       "      <td>Ізмаїльський</td>\n",
       "      <td>Измаильский</td>\n",
       "      <td>...</td>\n",
       "      <td>Odeska</td>\n",
       "      <td>Одеська</td>\n",
       "      <td>Одесская</td>\n",
       "      <td>UA51</td>\n",
       "      <td>Ukraine</td>\n",
       "      <td>2023</td>\n",
       "      <td>120</td>\n",
       "      <td>2023-08-03</td>\n",
       "      <td>280.977295</td>\n",
       "      <td>Odesa Oblast</td>\n",
       "    </tr>\n",
       "    <tr>\n",
       "      <th>241</th>\n",
       "      <td>45.30515</td>\n",
       "      <td>28.90079</td>\n",
       "      <td>UA5108009</td>\n",
       "      <td>UA5108009</td>\n",
       "      <td>Safianivska</td>\n",
       "      <td>Саф'янівська</td>\n",
       "      <td>Сафьяновская</td>\n",
       "      <td>Izmailskyi</td>\n",
       "      <td>Ізмаїльський</td>\n",
       "      <td>Измаильский</td>\n",
       "      <td>...</td>\n",
       "      <td>Odeska</td>\n",
       "      <td>Одеська</td>\n",
       "      <td>Одесская</td>\n",
       "      <td>UA51</td>\n",
       "      <td>Ukraine</td>\n",
       "      <td>2023</td>\n",
       "      <td>48</td>\n",
       "      <td>2023-08-02</td>\n",
       "      <td>316.327911</td>\n",
       "      <td>Odesa Oblast</td>\n",
       "    </tr>\n",
       "  </tbody>\n",
       "</table>\n",
       "<p>5 rows × 21 columns</p>\n",
       "</div>"
      ],
      "text/plain": [
       "     LATITUDE  LONGITUDE ADM3_PCODE municipality      ADM3_EN       ADM3_UA  \\\n",
       "223  45.30062   28.89845  UA5108003    UA5108003    Izmailska   Ізмаїльська   \n",
       "227  45.30187   28.90038  UA5108009    UA5108009  Safianivska  Саф'янівська   \n",
       "232  45.30349   28.89518  UA5108003    UA5108003    Izmailska   Ізмаїльська   \n",
       "234  45.30404   28.89320  UA5108003    UA5108003    Izmailska   Ізмаїльська   \n",
       "241  45.30515   28.90079  UA5108009    UA5108009  Safianivska  Саф'янівська   \n",
       "\n",
       "          ADM3_RU     ADM2_EN       ADM2_UA      ADM2_RU  ... ADM1_EN  \\\n",
       "223   Измаильская  Izmailskyi  Ізмаїльський  Измаильский  ...  Odeska   \n",
       "227  Сафьяновская  Izmailskyi  Ізмаїльський  Измаильский  ...  Odeska   \n",
       "232   Измаильская  Izmailskyi  Ізмаїльський  Измаильский  ...  Odeska   \n",
       "234   Измаильская  Izmailskyi  Ізмаїльський  Измаильский  ...  Odeska   \n",
       "241  Сафьяновская  Izmailskyi  Ізмаїльський  Измаильский  ...  Odeska   \n",
       "\n",
       "     ADM1_UA   ADM1_RU ADM1_PCODE  ADM0_EN  year  ACQ_TIME        date  \\\n",
       "223  Одеська  Одесская       UA51  Ukraine  2023        48  2023-08-02   \n",
       "227  Одеська  Одесская       UA51  Ukraine  2023      1155  2023-08-03   \n",
       "232  Одеська  Одесская       UA51  Ukraine  2023        30  2023-08-03   \n",
       "234  Одеська  Одесская       UA51  Ukraine  2023       120  2023-08-03   \n",
       "241  Одеська  Одесская       UA51  Ukraine  2023        48  2023-08-02   \n",
       "\n",
       "      pop_exact         state  \n",
       "223  280.977295  Odesa Oblast  \n",
       "227  316.327911  Odesa Oblast  \n",
       "232  280.977295  Odesa Oblast  \n",
       "234  280.977295  Odesa Oblast  \n",
       "241  316.327911  Odesa Oblast  \n",
       "\n",
       "[5 rows x 21 columns]"
      ]
     },
     "execution_count": 12,
     "metadata": {},
     "output_type": "execute_result"
    }
   ],
   "source": [
    "# Limit war fires to states of interest\n",
    "war_fire_df_state = war_fire_df[war_fire_df[\"state\"].isin([\"Odesa Oblast\",\"Chernihiv Oblast\", \"Sumy Oblast\", \"Kharkiv Oblast\",\"Luhansk Oblast\",\"Donetsk Oblast\",\"Zaporizhia Oblast\",\"Kherson Oblast\",\"Mykolaiv Oblast\"])]\n",
    "war_fire_df_state.head() "
   ]
  },
  {
   "cell_type": "code",
   "execution_count": 13,
   "id": "bda4c8b2",
   "metadata": {},
   "outputs": [
    {
     "data": {
      "text/plain": [
       "state\n",
       "Odesa Oblast      468\n",
       "Kherson Oblast     16\n",
       "Name: count, dtype: int64"
      ]
     },
     "execution_count": 13,
     "metadata": {},
     "output_type": "execute_result"
    }
   ],
   "source": [
    "war_fire_df_state[\"state\"].value_counts()"
   ]
  },
  {
   "cell_type": "code",
   "execution_count": 14,
   "id": "d3a9d964",
   "metadata": {},
   "outputs": [
    {
     "name": "stderr",
     "output_type": "stream",
     "text": [
      "/var/folders/93/b531zk911js9h3xpnm3db4x00000gn/T/ipykernel_11215/3676197505.py:2: SettingWithCopyWarning: \n",
      "A value is trying to be set on a copy of a slice from a DataFrame.\n",
      "Try using .loc[row_indexer,col_indexer] = value instead\n",
      "\n",
      "See the caveats in the documentation: https://pandas.pydata.org/pandas-docs/stable/user_guide/indexing.html#returning-a-view-versus-a-copy\n",
      "  war_fire_df_state['geometry'] = war_fire_df_state.apply(lambda row: Point(row['LATITUDE'], row['LONGITUDE']), axis=1)\n"
     ]
    },
    {
     "data": {
      "text/plain": [
       "223    POINT (45.30062 28.89845)\n",
       "227    POINT (45.30187 28.90038)\n",
       "232    POINT (45.30349 28.89518)\n",
       "234     POINT (45.30404 28.8932)\n",
       "241    POINT (45.30515 28.90079)\n",
       "Name: geometry, dtype: object"
      ]
     },
     "execution_count": 14,
     "metadata": {},
     "output_type": "execute_result"
    }
   ],
   "source": [
    "# Add in the geometry column\n",
    "war_fire_df_state['geometry'] = war_fire_df_state.apply(lambda row: Point(row['LATITUDE'], row['LONGITUDE']), axis=1)\n",
    "war_fire_df_state[\"geometry\"].head()"
   ]
  },
  {
   "cell_type": "markdown",
   "id": "aed39502",
   "metadata": {},
   "source": [
    "# calculate UTM"
   ]
  },
  {
   "cell_type": "code",
   "execution_count": null,
   "id": "c78fcbda",
   "metadata": {},
   "outputs": [],
   "source": [
    "\n",
    "# change to GeoDataFrame\n",
    "# geo_build_df = gpd.GeoDataFrame(buildings_df)\n",
    "# geo_build_df = geo_build_df.set_geometry(\"geometry_wkt_cent\")"
   ]
  },
  {
   "cell_type": "code",
   "execution_count": null,
   "id": "4d794218",
   "metadata": {},
   "outputs": [],
   "source": [
    "# from pyproj import Proj\n",
    "# pp = Proj(proj='utm',zone=10,ellps='WGS84', preserve_units=False)\n",
    "\n",
    "# geo_build_df[\"xx\"], geo_build_df[\"yy\"]= pp(geo_build_df[\"geometry_wkt_cent\"].x.values,geo_build_df[\"geometry_wkt_cent\"].y.values)\n",
    "# # My_data[\"X\"] = xx\n",
    "# # My_data[\"Y\"] = yy "
   ]
  },
  {
   "cell_type": "code",
   "execution_count": null,
   "id": "114cd3fa",
   "metadata": {},
   "outputs": [],
   "source": [
    "# First, convert WKT column to geometries\n",
    "#buildings_df_state['geometry_wkt_cent2'] = gpd.GeoSeries.from_wkt(buildings_df_state['geometry_wkt_cent'])\n",
    "\n",
    "# Then create a GeoDataFrame, setting the geometry to the converted geometries\n",
    "# geo_build_df = gpd.GeoDataFrame(buildings_df_state, geometry='geometry_wkt_cent')"
   ]
  },
  {
   "cell_type": "code",
   "execution_count": null,
   "id": "e404ae06",
   "metadata": {},
   "outputs": [],
   "source": [
    "# geo_build_df.crs = 'epsg:32635'\n",
    "# # change the projection of geodf\n",
    "# geo_build_df_2 = geo_build_df.to_crs(epsg=32635)\n",
    "# print(geo_build_df_2)"
   ]
  },
  {
   "cell_type": "code",
   "execution_count": null,
   "id": "7bea63ab",
   "metadata": {},
   "outputs": [],
   "source": [
    "#geo_build_df_2[\"geometry_wkt_cent\"]"
   ]
  },
  {
   "cell_type": "markdown",
   "id": "e650e734",
   "metadata": {},
   "source": [
    "# Buffer "
   ]
  },
  {
   "cell_type": "code",
   "execution_count": null,
   "id": "d41f1a12",
   "metadata": {},
   "outputs": [],
   "source": [
    "# import geopandas as gpd\n",
    "# from shapely.geometry import Point\n",
    "# from pprint import pprint\n",
    "\n",
    "# buffer_radius_m = 500\n",
    "# buffered_gdf = geo_build_df_2.copy()\n",
    "\n",
    "# buffered_gdf['geometry_wkt_cent_buff'] = buffered_gdf.buffer(buffer_radius_m)  # 1 degree of latitude is approximately 111.32 km\n",
    "# # Print the buffered GeoDataFrame\n",
    "\n",
    "# pprint(buffered_gdf)"
   ]
  },
  {
   "cell_type": "code",
   "execution_count": null,
   "id": "85a4819f",
   "metadata": {},
   "outputs": [],
   "source": [
    "#pip install pyproj --upgrade\n"
   ]
  },
  {
   "cell_type": "code",
   "execution_count": 15,
   "id": "f6b43af6",
   "metadata": {},
   "outputs": [
    {
     "name": "stdout",
     "output_type": "stream",
     "text": [
      "3.6.1\n"
     ]
    }
   ],
   "source": [
    "import pyproj\n",
    "print(pyproj.__version__)\n"
   ]
  },
  {
   "cell_type": "markdown",
   "id": "f10ebd85",
   "metadata": {},
   "source": [
    "### with utm conversion\n"
   ]
  },
  {
   "cell_type": "code",
   "execution_count": 16,
   "id": "4949ded8",
   "metadata": {
    "scrolled": true
   },
   "outputs": [
    {
     "data": {
      "text/plain": [
       "223    POLYGON ((2300506.403 3338797.153, 2300506.162...\n",
       "227    POLYGON ((2300596.466 3339036.818, 2300596.226...\n",
       "232    POLYGON ((2300853.347 3338470.964, 2300853.106...\n",
       "234    POLYGON ((2300944.466 3338254.432, 2300944.225...\n",
       "241    POLYGON ((2300917.490 3339136.015, 2300917.250...\n",
       "Name: geometry_buff, dtype: geometry"
      ]
     },
     "execution_count": 16,
     "metadata": {},
     "output_type": "execute_result"
    }
   ],
   "source": [
    "# In summary, the code first ensures that the GeoDataFrame has a defined CRS, \n",
    "# estimates the UTM CRS, and then reprojects the data to that UTM CRS. \n",
    "# The code then applies a buffer of 50 meters around each geometry in the \n",
    "# UTM-projected GeoDataFrame. Finally the code sets the geometry of the GeoDataFrame to the buffered geometries.\n",
    "geo_warfires_df = gpd.GeoDataFrame(war_fire_df_state, geometry='geometry')\n",
    "geo_warfires_df.set_crs(epsg=4326, inplace=True)\n",
    "utm_crs = geo_warfires_df.estimate_utm_crs()\n",
    "geo_warfires_df_utm = geo_warfires_df.to_crs(\"EPSG:32635\")\n",
    "\n",
    "# Then, apply the buffer in meters\n",
    "buffer_radius_m = 50  # Buffer radius in meters\n",
    "geo_warfires_df_utm['geometry_buff'] = geo_warfires_df_utm.buffer(buffer_radius_m)\n",
    "geo_warfires_df_utm = geo_warfires_df_utm.set_geometry(\"geometry_buff\")\n",
    "geo_warfires_df_utm['geometry_buff'].head()"
   ]
  },
  {
   "cell_type": "markdown",
   "id": "a9c01e52",
   "metadata": {},
   "source": [
    "# Buildings dataset"
   ]
  },
  {
   "cell_type": "markdown",
   "id": "1b9f26be",
   "metadata": {},
   "source": [
    "## Convert string geometry to integer"
   ]
  },
  {
   "cell_type": "code",
   "execution_count": 17,
   "id": "260c414c",
   "metadata": {},
   "outputs": [],
   "source": [
    "output_df['geometry_wkt'] = output_df['geometry'].apply(lambda x: loads(x) if x is not None else None)"
   ]
  },
  {
   "cell_type": "code",
   "execution_count": 18,
   "id": "c7d6ed7b",
   "metadata": {},
   "outputs": [
    {
     "data": {
      "text/html": [
       "<div>\n",
       "<style scoped>\n",
       "    .dataframe tbody tr th:only-of-type {\n",
       "        vertical-align: middle;\n",
       "    }\n",
       "\n",
       "    .dataframe tbody tr th {\n",
       "        vertical-align: top;\n",
       "    }\n",
       "\n",
       "    .dataframe thead th {\n",
       "        text-align: right;\n",
       "    }\n",
       "</style>\n",
       "<table border=\"1\" class=\"dataframe\">\n",
       "  <thead>\n",
       "    <tr style=\"text-align: right;\">\n",
       "      <th></th>\n",
       "      <th>osm_id</th>\n",
       "      <th>buildingma</th>\n",
       "      <th>addrstreet</th>\n",
       "      <th>addrcity</th>\n",
       "      <th>building</th>\n",
       "      <th>addrhousen</th>\n",
       "      <th>office</th>\n",
       "      <th>addrfull</th>\n",
       "      <th>name</th>\n",
       "      <th>buildingle</th>\n",
       "      <th>source</th>\n",
       "      <th>geometry</th>\n",
       "      <th>geometry_wkt</th>\n",
       "    </tr>\n",
       "  </thead>\n",
       "  <tbody>\n",
       "    <tr>\n",
       "      <th>0</th>\n",
       "      <td>4338650.0</td>\n",
       "      <td>NaN</td>\n",
       "      <td>NaN</td>\n",
       "      <td>NaN</td>\n",
       "      <td>construction</td>\n",
       "      <td>NaN</td>\n",
       "      <td>NaN</td>\n",
       "      <td>NaN</td>\n",
       "      <td>Льодовий стадіон</td>\n",
       "      <td>5</td>\n",
       "      <td>NaN</td>\n",
       "      <td>POLYGON ((30.4658704 50.3739959, 30.4672303 50...</td>\n",
       "      <td>POLYGON ((30.4658704 50.3739959, 30.4672303 50...</td>\n",
       "    </tr>\n",
       "    <tr>\n",
       "      <th>1</th>\n",
       "      <td>4528325.0</td>\n",
       "      <td>NaN</td>\n",
       "      <td>NaN</td>\n",
       "      <td>NaN</td>\n",
       "      <td>yes</td>\n",
       "      <td>NaN</td>\n",
       "      <td>NaN</td>\n",
       "      <td>NaN</td>\n",
       "      <td>NaN</td>\n",
       "      <td>NaN</td>\n",
       "      <td>NaN</td>\n",
       "      <td>POLYGON ((35.4149579 45.3275258, 35.4150137 45...</td>\n",
       "      <td>POLYGON ((35.4149579 45.3275258, 35.4150137 45...</td>\n",
       "    </tr>\n",
       "    <tr>\n",
       "      <th>2</th>\n",
       "      <td>4528616.0</td>\n",
       "      <td>NaN</td>\n",
       "      <td>NaN</td>\n",
       "      <td>NaN</td>\n",
       "      <td>yes</td>\n",
       "      <td>NaN</td>\n",
       "      <td>NaN</td>\n",
       "      <td>NaN</td>\n",
       "      <td>NaN</td>\n",
       "      <td>NaN</td>\n",
       "      <td>NaN</td>\n",
       "      <td>POLYGON ((35.4150689 45.3277749, 35.4151686 45...</td>\n",
       "      <td>POLYGON ((35.4150689 45.3277749, 35.4151686 45...</td>\n",
       "    </tr>\n",
       "    <tr>\n",
       "      <th>3</th>\n",
       "      <td>4528933.0</td>\n",
       "      <td>NaN</td>\n",
       "      <td>NaN</td>\n",
       "      <td>NaN</td>\n",
       "      <td>yes</td>\n",
       "      <td>NaN</td>\n",
       "      <td>NaN</td>\n",
       "      <td>NaN</td>\n",
       "      <td>NaN</td>\n",
       "      <td>NaN</td>\n",
       "      <td>NaN</td>\n",
       "      <td>POLYGON ((35.4122859 45.3309186, 35.4123139 45...</td>\n",
       "      <td>POLYGON ((35.4122859 45.3309186, 35.4123139 45...</td>\n",
       "    </tr>\n",
       "    <tr>\n",
       "      <th>4</th>\n",
       "      <td>4529198.0</td>\n",
       "      <td>NaN</td>\n",
       "      <td>NaN</td>\n",
       "      <td>NaN</td>\n",
       "      <td>yes</td>\n",
       "      <td>NaN</td>\n",
       "      <td>NaN</td>\n",
       "      <td>NaN</td>\n",
       "      <td>NaN</td>\n",
       "      <td>NaN</td>\n",
       "      <td>NaN</td>\n",
       "      <td>POLYGON ((33.7198442 44.4086498, 33.720139 44....</td>\n",
       "      <td>POLYGON ((33.7198442 44.4086498, 33.720139 44....</td>\n",
       "    </tr>\n",
       "  </tbody>\n",
       "</table>\n",
       "</div>"
      ],
      "text/plain": [
       "      osm_id  buildingma addrstreet addrcity      building addrhousen office  \\\n",
       "0  4338650.0         NaN        NaN      NaN  construction        NaN    NaN   \n",
       "1  4528325.0         NaN        NaN      NaN           yes        NaN    NaN   \n",
       "2  4528616.0         NaN        NaN      NaN           yes        NaN    NaN   \n",
       "3  4528933.0         NaN        NaN      NaN           yes        NaN    NaN   \n",
       "4  4529198.0         NaN        NaN      NaN           yes        NaN    NaN   \n",
       "\n",
       "  addrfull              name buildingle source  \\\n",
       "0      NaN  Льодовий стадіон          5    NaN   \n",
       "1      NaN               NaN        NaN    NaN   \n",
       "2      NaN               NaN        NaN    NaN   \n",
       "3      NaN               NaN        NaN    NaN   \n",
       "4      NaN               NaN        NaN    NaN   \n",
       "\n",
       "                                            geometry  \\\n",
       "0  POLYGON ((30.4658704 50.3739959, 30.4672303 50...   \n",
       "1  POLYGON ((35.4149579 45.3275258, 35.4150137 45...   \n",
       "2  POLYGON ((35.4150689 45.3277749, 35.4151686 45...   \n",
       "3  POLYGON ((35.4122859 45.3309186, 35.4123139 45...   \n",
       "4  POLYGON ((33.7198442 44.4086498, 33.720139 44....   \n",
       "\n",
       "                                        geometry_wkt  \n",
       "0  POLYGON ((30.4658704 50.3739959, 30.4672303 50...  \n",
       "1  POLYGON ((35.4149579 45.3275258, 35.4150137 45...  \n",
       "2  POLYGON ((35.4150689 45.3277749, 35.4151686 45...  \n",
       "3  POLYGON ((35.4122859 45.3309186, 35.4123139 45...  \n",
       "4  POLYGON ((33.7198442 44.4086498, 33.720139 44....  "
      ]
     },
     "execution_count": 18,
     "metadata": {},
     "output_type": "execute_result"
    }
   ],
   "source": [
    "buildings_df = output_df.copy()\n",
    "buildings_df.head()"
   ]
  },
  {
   "cell_type": "code",
   "execution_count": null,
   "id": "a97ab30e",
   "metadata": {},
   "outputs": [
    {
     "name": "stdout",
     "output_type": "stream",
     "text": [
      "0.845716634706276\n"
     ]
    }
   ],
   "source": [
    "print(buildings_df[\"buildingle\"].isna().sum()/len(buildings_df))"
   ]
  },
  {
   "cell_type": "code",
   "execution_count": 19,
   "id": "69ad20d3",
   "metadata": {},
   "outputs": [],
   "source": [
    "buildings_df[\"geometry_wkt_cent\"] = np.nan"
   ]
  },
  {
   "cell_type": "code",
   "execution_count": 20,
   "id": "2d3a1ff6",
   "metadata": {},
   "outputs": [],
   "source": [
    "# buildings_df[\"geometry_wkt_cent\"] = buildings_df[\"geometry_wkt\"].apply(lambda x: x.centroid )\n",
    "buildings_df['geometry_wkt_cent'] = buildings_df['geometry_wkt'].apply(lambda geom: Point(geom.centroid.y, geom.centroid.x))\n",
    "\n",
    "# This will result in a column 'centroid' with tuples where the first element is latitude and the second is longitude."
   ]
  },
  {
   "cell_type": "code",
   "execution_count": 21,
   "id": "895f0bee",
   "metadata": {},
   "outputs": [
    {
     "data": {
      "text/plain": [
       "0          POINT (50.374100145135635 30.467099672291766)\n",
       "1           POINT (45.32753752984076 35.415019664900306)\n",
       "2           POINT (45.327807102299445 35.41514065136904)\n",
       "3                  POINT (45.3309117 35.412328200000005)\n",
       "4            POINT (44.40867430282276 33.72001963688109)\n",
       "                               ...                      \n",
       "6018382       POINT (49.2044672808804 25.60430534762094)\n",
       "6018383    POINT (49.204496717246315 25.604121257448696)\n",
       "6018384     POINT (49.20462673448506 25.604146556830067)\n",
       "6018385           POINT (49.19898575 25.603685750000004)\n",
       "6018386      POINT (49.19837142702208 25.60360779391183)\n",
       "Name: geometry_wkt_cent, Length: 6018387, dtype: object"
      ]
     },
     "execution_count": 21,
     "metadata": {},
     "output_type": "execute_result"
    }
   ],
   "source": [
    "buildings_df[\"geometry_wkt_cent\"]"
   ]
  },
  {
   "cell_type": "markdown",
   "id": "104ebc43",
   "metadata": {},
   "source": [
    "## Find the intersection of war_fires and buildings\n"
   ]
  },
  {
   "cell_type": "markdown",
   "id": "6131fa6f",
   "metadata": {},
   "source": [
    "### Buildings dataset with utm conversion\n"
   ]
  },
  {
   "cell_type": "code",
   "execution_count": 22,
   "id": "4bd374fa",
   "metadata": {
    "scrolled": true
   },
   "outputs": [],
   "source": [
    "# The main purpose of this code is to convert the geometries in the building GeoDataFrame \n",
    "# from the original geographic coordinate system (WGS 84) to a UTM projected coordinate \n",
    "#  system (EPSG 32635). This might be useful for spatial analysis or visualization in a \n",
    "# local coordinate system, which can be more suitable for certain tasks.\n",
    "geo_buildings_df = gpd.GeoDataFrame(buildings_df, geometry='geometry_wkt_cent')\n",
    "geo_buildings_df.set_crs(epsg=4326, inplace=True)\n",
    "geo_buildings_df_utm = geo_buildings_df.to_crs(\"EPSG:32635\")"
   ]
  },
  {
   "cell_type": "markdown",
   "id": "ccd4b12f",
   "metadata": {},
   "source": [
    "### How many buildings are within 50 meters of warfires"
   ]
  },
  {
   "cell_type": "code",
   "execution_count": 23,
   "id": "f1970d90",
   "metadata": {},
   "outputs": [
    {
     "data": {
      "application/vnd.jupyter.widget-view+json": {
       "model_id": "400bad5c0e1c4951bb14a665236eef08",
       "version_major": 2,
       "version_minor": 0
      },
      "text/plain": [
       "  0%|          | 0/484 [00:00<?, ?it/s]"
      ]
     },
     "metadata": {},
     "output_type": "display_data"
    }
   ],
   "source": [
    "# Function to count buildings within a given buffer polygon\n",
    "def count_buildings_in_buffer(buffer, buildings_gdf):\n",
    "    # Use the within method to check if buildings are within the buffer zone\n",
    "    return buildings_gdf.within(buffer).sum()\n",
    "\n",
    "# Rewrite the code above using tqdm to see the progress of the loop\n",
    "for idx, row in tqdm(geo_warfires_df_utm.iterrows(), total=geo_warfires_df_utm.shape[0]):\n",
    "    geo_warfires_df_utm.loc[idx, 'building_count'] = count_buildings_in_buffer(row['geometry_buff'], geo_buildings_df_utm)"
   ]
  },
  {
   "cell_type": "code",
   "execution_count": 24,
   "id": "469a2f01",
   "metadata": {},
   "outputs": [
    {
     "data": {
      "text/plain": [
       "223    POLYGON ((2300506.403 3338797.153, 2300506.162...\n",
       "227    POLYGON ((2300596.466 3339036.818, 2300596.226...\n",
       "232    POLYGON ((2300853.347 3338470.964, 2300853.106...\n",
       "234    POLYGON ((2300944.466 3338254.432, 2300944.225...\n",
       "241    POLYGON ((2300917.490 3339136.015, 2300917.250...\n",
       "                             ...                        \n",
       "995    POLYGON ((2258724.465 3979785.900, 2258724.224...\n",
       "996    POLYGON ((2258870.590 3979739.320, 2258870.349...\n",
       "997    POLYGON ((2259106.124 3978606.275, 2259105.883...\n",
       "998    POLYGON ((2367623.799 3381580.882, 2367623.558...\n",
       "999    POLYGON ((2347862.418 3497517.736, 2347862.177...\n",
       "Name: geometry_buff, Length: 484, dtype: geometry"
      ]
     },
     "execution_count": 24,
     "metadata": {},
     "output_type": "execute_result"
    }
   ],
   "source": [
    "geo_warfires_df_utm['geometry_buff']"
   ]
  },
  {
   "cell_type": "code",
   "execution_count": 25,
   "id": "86d0b8a0",
   "metadata": {},
   "outputs": [
    {
     "data": {
      "text/html": [
       "<div>\n",
       "<style scoped>\n",
       "    .dataframe tbody tr th:only-of-type {\n",
       "        vertical-align: middle;\n",
       "    }\n",
       "\n",
       "    .dataframe tbody tr th {\n",
       "        vertical-align: top;\n",
       "    }\n",
       "\n",
       "    .dataframe thead th {\n",
       "        text-align: right;\n",
       "    }\n",
       "</style>\n",
       "<table border=\"1\" class=\"dataframe\">\n",
       "  <thead>\n",
       "    <tr style=\"text-align: right;\">\n",
       "      <th></th>\n",
       "      <th>LATITUDE</th>\n",
       "      <th>LONGITUDE</th>\n",
       "      <th>ADM3_PCODE</th>\n",
       "      <th>municipality</th>\n",
       "      <th>ADM3_EN</th>\n",
       "      <th>ADM3_UA</th>\n",
       "      <th>ADM3_RU</th>\n",
       "      <th>ADM2_EN</th>\n",
       "      <th>ADM2_UA</th>\n",
       "      <th>ADM2_RU</th>\n",
       "      <th>...</th>\n",
       "      <th>ADM1_PCODE</th>\n",
       "      <th>ADM0_EN</th>\n",
       "      <th>year</th>\n",
       "      <th>ACQ_TIME</th>\n",
       "      <th>date</th>\n",
       "      <th>pop_exact</th>\n",
       "      <th>state</th>\n",
       "      <th>geometry</th>\n",
       "      <th>geometry_buff</th>\n",
       "      <th>building_count</th>\n",
       "    </tr>\n",
       "  </thead>\n",
       "  <tbody>\n",
       "    <tr>\n",
       "      <th>242</th>\n",
       "      <td>45.30531</td>\n",
       "      <td>28.89597</td>\n",
       "      <td>UA5108003</td>\n",
       "      <td>UA5108003</td>\n",
       "      <td>Izmailska</td>\n",
       "      <td>Ізмаїльська</td>\n",
       "      <td>Измаильская</td>\n",
       "      <td>Izmailskyi</td>\n",
       "      <td>Ізмаїльський</td>\n",
       "      <td>Измаильский</td>\n",
       "      <td>...</td>\n",
       "      <td>UA51</td>\n",
       "      <td>Ukraine</td>\n",
       "      <td>2023</td>\n",
       "      <td>30</td>\n",
       "      <td>2023-08-03</td>\n",
       "      <td>280.977295</td>\n",
       "      <td>Odesa Oblast</td>\n",
       "      <td>POINT (2300971.250 3338590.022)</td>\n",
       "      <td>POLYGON ((2301021.250 3338590.022, 2301021.009...</td>\n",
       "      <td>3.0</td>\n",
       "    </tr>\n",
       "    <tr>\n",
       "      <th>243</th>\n",
       "      <td>45.30536</td>\n",
       "      <td>28.89639</td>\n",
       "      <td>UA5108003</td>\n",
       "      <td>UA5108003</td>\n",
       "      <td>Izmailska</td>\n",
       "      <td>Ізмаїльська</td>\n",
       "      <td>Измаильская</td>\n",
       "      <td>Izmailskyi</td>\n",
       "      <td>Ізмаїльський</td>\n",
       "      <td>Измаильский</td>\n",
       "      <td>...</td>\n",
       "      <td>UA51</td>\n",
       "      <td>Ukraine</td>\n",
       "      <td>2023</td>\n",
       "      <td>120</td>\n",
       "      <td>2023-08-03</td>\n",
       "      <td>280.977295</td>\n",
       "      <td>Odesa Oblast</td>\n",
       "      <td>POINT (2300968.613 3338638.623)</td>\n",
       "      <td>POLYGON ((2301018.613 3338638.623, 2301018.372...</td>\n",
       "      <td>3.0</td>\n",
       "    </tr>\n",
       "    <tr>\n",
       "      <th>422</th>\n",
       "      <td>45.43291</td>\n",
       "      <td>29.27516</td>\n",
       "      <td>UA5108005</td>\n",
       "      <td>UA5108005</td>\n",
       "      <td>Kiliiska</td>\n",
       "      <td>Кілійська</td>\n",
       "      <td>Килийская</td>\n",
       "      <td>Izmailskyi</td>\n",
       "      <td>Ізмаїльський</td>\n",
       "      <td>Измаильский</td>\n",
       "      <td>...</td>\n",
       "      <td>UA51</td>\n",
       "      <td>Ukraine</td>\n",
       "      <td>2023</td>\n",
       "      <td>113</td>\n",
       "      <td>2023-09-07</td>\n",
       "      <td>254.374786</td>\n",
       "      <td>Odesa Oblast</td>\n",
       "      <td>POINT (2306757.697 3383800.898)</td>\n",
       "      <td>POLYGON ((2306807.697 3383800.898, 2306807.456...</td>\n",
       "      <td>1.0</td>\n",
       "    </tr>\n",
       "    <tr>\n",
       "      <th>464</th>\n",
       "      <td>45.46016</td>\n",
       "      <td>29.29778</td>\n",
       "      <td>UA5108005</td>\n",
       "      <td>UA5108005</td>\n",
       "      <td>Kiliiska</td>\n",
       "      <td>Кілійська</td>\n",
       "      <td>Килийская</td>\n",
       "      <td>Izmailskyi</td>\n",
       "      <td>Ізмаїльський</td>\n",
       "      <td>Измаильский</td>\n",
       "      <td>...</td>\n",
       "      <td>UA51</td>\n",
       "      <td>Ukraine</td>\n",
       "      <td>2023</td>\n",
       "      <td>1051</td>\n",
       "      <td>2023-10-12</td>\n",
       "      <td>178.179245</td>\n",
       "      <td>Odesa Oblast</td>\n",
       "      <td>POINT (2309055.847 3386818.556)</td>\n",
       "      <td>POLYGON ((2309105.847 3386818.556, 2309105.606...</td>\n",
       "      <td>1.0</td>\n",
       "    </tr>\n",
       "  </tbody>\n",
       "</table>\n",
       "<p>4 rows × 24 columns</p>\n",
       "</div>"
      ],
      "text/plain": [
       "     LATITUDE  LONGITUDE ADM3_PCODE municipality    ADM3_EN      ADM3_UA  \\\n",
       "242  45.30531   28.89597  UA5108003    UA5108003  Izmailska  Ізмаїльська   \n",
       "243  45.30536   28.89639  UA5108003    UA5108003  Izmailska  Ізмаїльська   \n",
       "422  45.43291   29.27516  UA5108005    UA5108005   Kiliiska    Кілійська   \n",
       "464  45.46016   29.29778  UA5108005    UA5108005   Kiliiska    Кілійська   \n",
       "\n",
       "         ADM3_RU     ADM2_EN       ADM2_UA      ADM2_RU  ... ADM1_PCODE  \\\n",
       "242  Измаильская  Izmailskyi  Ізмаїльський  Измаильский  ...       UA51   \n",
       "243  Измаильская  Izmailskyi  Ізмаїльський  Измаильский  ...       UA51   \n",
       "422    Килийская  Izmailskyi  Ізмаїльський  Измаильский  ...       UA51   \n",
       "464    Килийская  Izmailskyi  Ізмаїльський  Измаильский  ...       UA51   \n",
       "\n",
       "     ADM0_EN  year ACQ_TIME        date   pop_exact         state  \\\n",
       "242  Ukraine  2023       30  2023-08-03  280.977295  Odesa Oblast   \n",
       "243  Ukraine  2023      120  2023-08-03  280.977295  Odesa Oblast   \n",
       "422  Ukraine  2023      113  2023-09-07  254.374786  Odesa Oblast   \n",
       "464  Ukraine  2023     1051  2023-10-12  178.179245  Odesa Oblast   \n",
       "\n",
       "                            geometry  \\\n",
       "242  POINT (2300971.250 3338590.022)   \n",
       "243  POINT (2300968.613 3338638.623)   \n",
       "422  POINT (2306757.697 3383800.898)   \n",
       "464  POINT (2309055.847 3386818.556)   \n",
       "\n",
       "                                         geometry_buff  building_count  \n",
       "242  POLYGON ((2301021.250 3338590.022, 2301021.009...             3.0  \n",
       "243  POLYGON ((2301018.613 3338638.623, 2301018.372...             3.0  \n",
       "422  POLYGON ((2306807.697 3383800.898, 2306807.456...             1.0  \n",
       "464  POLYGON ((2309105.847 3386818.556, 2309105.606...             1.0  \n",
       "\n",
       "[4 rows x 24 columns]"
      ]
     },
     "execution_count": 25,
     "metadata": {},
     "output_type": "execute_result"
    }
   ],
   "source": [
    "# Take a look at buildings that have been affected by war fires\n",
    "geo_warfires_df_utm[geo_warfires_df_utm['building_count']  > 0].head()"
   ]
  },
  {
   "cell_type": "code",
   "execution_count": 26,
   "metadata": {},
   "outputs": [
    {
     "data": {
      "text/plain": [
       "state\n",
       "Kherson Oblast    0.0\n",
       "Odesa Oblast      8.0\n",
       "Name: building_count, dtype: float64"
      ]
     },
     "execution_count": 26,
     "metadata": {},
     "output_type": "execute_result"
    }
   ],
   "source": [
    "# Count the total number of buildings in each state\n",
    "geo_warfires_df_utm.groupby('state')['building_count'].sum()"
   ]
  },
  {
   "cell_type": "code",
   "execution_count": 27,
   "id": "9d99c4c9",
   "metadata": {},
   "outputs": [],
   "source": [
    "geo_warfires_df_utm.to_csv(\"./data/processed/buildings_impacted_by_war_fires.csv\", index=False)"
   ]
  },
  {
   "cell_type": "code",
   "execution_count": 28,
   "metadata": {},
   "outputs": [
    {
     "name": "stdout",
     "output_type": "stream",
     "text": [
      "[NbConvertApp] Converting notebook ./notebooks/24_01_22-hh-buildings_impacted_by_war_fires.ipynb to script\n",
      "/Users/vivianwang/anaconda3/lib/python3.11/site-packages/nbformat/__init__.py:93: MissingIDFieldWarning: Code cell is missing an id field, this will become a hard error in future nbformat versions. You may want to use `normalize()` on your notebooks before validations (available since nbformat 5.1.4). Previous versions of nbformat are fixing this issue transparently, and will stop doing so in the future.\n",
      "  validate(nb)\n",
      "[NbConvertApp] Writing 8624 bytes to notebooks/python_scripts/python_scripts/24_01_22-hh-buildings_impacted_by_war_fires.py\n",
      "[NbConvertApp] Converting notebook ./notebooks/24_01_22-hh-visualising_building_count.ipynb to script\n",
      "/Users/vivianwang/anaconda3/lib/python3.11/site-packages/nbformat/__init__.py:93: MissingIDFieldWarning: Code cell is missing an id field, this will become a hard error in future nbformat versions. You may want to use `normalize()` on your notebooks before validations (available since nbformat 5.1.4). Previous versions of nbformat are fixing this issue transparently, and will stop doing so in the future.\n",
      "  validate(nb)\n",
      "[NbConvertApp] Writing 4108 bytes to notebooks/python_scripts/python_scripts/24_01_22-hh-visualising_building_count.py\n",
      "[NbConvertApp] Converting notebook ./notebooks/24_01_24-hh-estimating_uv_lifetime.ipynb to script\n",
      "[NbConvertApp] Writing 4198 bytes to notebooks/python_scripts/python_scripts/24_01_24-hh-estimating_uv_lifetime.py\n",
      "[NbConvertApp] Converting notebook ./notebooks/24_12_24-hh-lux_analysis.ipynb to script\n",
      "[NbConvertApp] Writing 3100 bytes to notebooks/python_scripts/python_scripts/24_12_24-hh-lux_analysis.py\n",
      "[NbConvertApp] Converting notebook ./notebooks/24_12_24-hh-temperature_analysis.ipynb to script\n",
      "[NbConvertApp] Writing 3694 bytes to notebooks/python_scripts/python_scripts/24_12_24-hh-temperature_analysis.py\n"
     ]
    }
   ],
   "source": [
    "# Convert to a python script and save in local folder\n",
    "!jupyter nbconvert --to script ./notebooks/*.ipynb --output-dir='./notebooks/python_scripts/python_scripts'"
   ]
  }
 ],
 "metadata": {
  "kernelspec": {
   "display_name": "Python 3.7",
   "language": "python",
   "name": "py37"
  },
  "language_info": {
   "codemirror_mode": {
    "name": "ipython",
    "version": 3
   },
   "file_extension": ".py",
   "mimetype": "text/x-python",
   "name": "python",
   "nbconvert_exporter": "python",
   "pygments_lexer": "ipython3",
   "version": "3.1.-1"
  }
 },
 "nbformat": 4,
 "nbformat_minor": 5
}
